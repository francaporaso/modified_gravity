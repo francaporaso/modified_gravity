{
 "cells": [
  {
   "cell_type": "code",
   "execution_count": 6,
   "id": "f132540e-cee2-4f3b-b38a-a73bfb08543e",
   "metadata": {},
   "outputs": [
    {
     "name": "stdout",
     "output_type": "stream",
     "text": [
      "The autoreload extension is already loaded. To reload it, use:\n",
      "  %reload_ext autoreload\n"
     ]
    }
   ],
   "source": [
    "%load_ext autoreload\n",
    "%autoreload 2\n",
    "%matplotlib inline"
   ]
  },
  {
   "cell_type": "code",
   "execution_count": 7,
   "id": "47978228-8ae2-4387-8fee-5b710e518318",
   "metadata": {},
   "outputs": [],
   "source": [
    "\"\"\n",
    "import sys\n",
    "import os\n",
    "import numpy as np\n",
    "import pandas as pd\n",
    "from astropy.cosmology import FlatLambdaCDM\n",
    "import matplotlib.pyplot as plt\n",
    "import time as time\n",
    "sys.path.append('/nfs/pic.es/user/e/egonzale/ia_cal/IACorr')\n",
    "from compute_IA_corr_from_data import compute_2p_corr\n",
    "cosmology = FlatLambdaCDM(H0=100.0, Om0=0.319, Ob0=0.049, Tcmb0=2.725)\n"
   ]
  },
  {
   "cell_type": "code",
   "execution_count": 8,
   "id": "17e5a438-002b-45ee-9045-113d2a087e54",
   "metadata": {},
   "outputs": [],
   "source": [
    "path = '/data/astro/scratch/egonzale/FS_wide_cats/'"
   ]
  },
  {
   "cell_type": "code",
   "execution_count": 9,
   "id": "7571bbbe-f1c8-4439-adc3-b1648ad68bc8",
   "metadata": {},
   "outputs": [],
   "source": [
    "lenses = pd.read_parquet(path+'FS2_lens_19571.parquet')\n",
    "sources = pd.read_parquet(path+'FS2_sources_19572.parquet')"
   ]
  },
  {
   "cell_type": "code",
   "execution_count": null,
   "id": "7301a4d5-ff65-4bf9-9c17-6b1f4ffa1b03",
   "metadata": {},
   "outputs": [],
   "source": [
    "'''\n",
    "lenses \n",
    "SELECT `halo_id`, `ra_gal`, `dec_gal`, `ra_mag_gal`, `dec_mag_gal`, `true_redshift_gal`, `observed_redshift_gal` FROM fs2_mock_std_2_1_10b_phz_wise where `lm_halo` >14 and lm_halo < 14.5 and true_redshift_gal > 0.25 and true_redshift_gal < 0.35 and kind == 0\n",
    "sources\n",
    "SELECT `ra_gal`, `dec_gal`, `ra_mag_gal`, `dec_mag_gal`, `true_redshift_gal`, `observed_redshift_gal`, gamma1, gamma2 FROM fs2_mock_std_2_1_10b_phz_wise where `lm_halo` >14 and lm_halo < 14.5 and true_redshift_gal > 0.5 and true_redshift_gal < 0.8\n",
    "'''"
   ]
  },
  {
   "cell_type": "code",
   "execution_count": 10,
   "id": "29240e6f-51df-48fc-8863-b3bed0f94eee",
   "metadata": {},
   "outputs": [
    {
     "data": {
      "text/html": [
       "<div>\n",
       "<style scoped>\n",
       "    .dataframe tbody tr th:only-of-type {\n",
       "        vertical-align: middle;\n",
       "    }\n",
       "\n",
       "    .dataframe tbody tr th {\n",
       "        vertical-align: top;\n",
       "    }\n",
       "\n",
       "    .dataframe thead th {\n",
       "        text-align: right;\n",
       "    }\n",
       "</style>\n",
       "<table border=\"1\" class=\"dataframe\">\n",
       "  <thead>\n",
       "    <tr style=\"text-align: right;\">\n",
       "      <th></th>\n",
       "      <th>ra_gal</th>\n",
       "      <th>dec_gal</th>\n",
       "      <th>ra_mag_gal</th>\n",
       "      <th>dec_mag_gal</th>\n",
       "      <th>true_redshift_gal</th>\n",
       "      <th>observed_redshift_gal</th>\n",
       "      <th>gamma1</th>\n",
       "      <th>gamma2</th>\n",
       "    </tr>\n",
       "  </thead>\n",
       "  <tbody>\n",
       "    <tr>\n",
       "      <th>0</th>\n",
       "      <td>229.476257</td>\n",
       "      <td>2.996521</td>\n",
       "      <td>229.468369</td>\n",
       "      <td>2.993731</td>\n",
       "      <td>0.516565</td>\n",
       "      <td>0.515547</td>\n",
       "      <td>-0.005178</td>\n",
       "      <td>-0.009831</td>\n",
       "    </tr>\n",
       "    <tr>\n",
       "      <th>1</th>\n",
       "      <td>229.101440</td>\n",
       "      <td>3.616219</td>\n",
       "      <td>229.092422</td>\n",
       "      <td>3.614582</td>\n",
       "      <td>0.518539</td>\n",
       "      <td>0.518481</td>\n",
       "      <td>0.001703</td>\n",
       "      <td>0.005263</td>\n",
       "    </tr>\n",
       "    <tr>\n",
       "      <th>2</th>\n",
       "      <td>228.941650</td>\n",
       "      <td>4.343185</td>\n",
       "      <td>228.936646</td>\n",
       "      <td>4.339224</td>\n",
       "      <td>0.515073</td>\n",
       "      <td>0.520599</td>\n",
       "      <td>0.005639</td>\n",
       "      <td>-0.005669</td>\n",
       "    </tr>\n",
       "    <tr>\n",
       "      <th>3</th>\n",
       "      <td>228.951767</td>\n",
       "      <td>4.372902</td>\n",
       "      <td>228.946884</td>\n",
       "      <td>4.368696</td>\n",
       "      <td>0.515284</td>\n",
       "      <td>0.517117</td>\n",
       "      <td>-0.000059</td>\n",
       "      <td>-0.001578</td>\n",
       "    </tr>\n",
       "    <tr>\n",
       "      <th>4</th>\n",
       "      <td>225.576538</td>\n",
       "      <td>4.221992</td>\n",
       "      <td>225.579742</td>\n",
       "      <td>4.215604</td>\n",
       "      <td>0.532277</td>\n",
       "      <td>0.531047</td>\n",
       "      <td>-0.003390</td>\n",
       "      <td>-0.002501</td>\n",
       "    </tr>\n",
       "    <tr>\n",
       "      <th>...</th>\n",
       "      <td>...</td>\n",
       "      <td>...</td>\n",
       "      <td>...</td>\n",
       "      <td>...</td>\n",
       "      <td>...</td>\n",
       "      <td>...</td>\n",
       "      <td>...</td>\n",
       "      <td>...</td>\n",
       "    </tr>\n",
       "    <tr>\n",
       "      <th>10503581</th>\n",
       "      <td>220.001755</td>\n",
       "      <td>9.576492</td>\n",
       "      <td>220.012024</td>\n",
       "      <td>9.573395</td>\n",
       "      <td>0.782083</td>\n",
       "      <td>0.792491</td>\n",
       "      <td>-0.004078</td>\n",
       "      <td>0.002490</td>\n",
       "    </tr>\n",
       "    <tr>\n",
       "      <th>10503582</th>\n",
       "      <td>219.746384</td>\n",
       "      <td>10.823242</td>\n",
       "      <td>219.757278</td>\n",
       "      <td>10.819694</td>\n",
       "      <td>0.786180</td>\n",
       "      <td>0.786544</td>\n",
       "      <td>-0.006373</td>\n",
       "      <td>-0.004257</td>\n",
       "    </tr>\n",
       "    <tr>\n",
       "      <th>10503583</th>\n",
       "      <td>219.496506</td>\n",
       "      <td>14.939133</td>\n",
       "      <td>219.498062</td>\n",
       "      <td>14.946248</td>\n",
       "      <td>0.784246</td>\n",
       "      <td>0.782211</td>\n",
       "      <td>0.007233</td>\n",
       "      <td>0.012594</td>\n",
       "    </tr>\n",
       "    <tr>\n",
       "      <th>10503584</th>\n",
       "      <td>219.492599</td>\n",
       "      <td>14.952271</td>\n",
       "      <td>219.494034</td>\n",
       "      <td>14.959308</td>\n",
       "      <td>0.784628</td>\n",
       "      <td>0.789711</td>\n",
       "      <td>0.006697</td>\n",
       "      <td>0.010686</td>\n",
       "    </tr>\n",
       "    <tr>\n",
       "      <th>10503585</th>\n",
       "      <td>220.537445</td>\n",
       "      <td>15.872910</td>\n",
       "      <td>220.538803</td>\n",
       "      <td>15.884286</td>\n",
       "      <td>0.791731</td>\n",
       "      <td>0.793883</td>\n",
       "      <td>-0.015907</td>\n",
       "      <td>0.004357</td>\n",
       "    </tr>\n",
       "  </tbody>\n",
       "</table>\n",
       "<p>10503586 rows × 8 columns</p>\n",
       "</div>"
      ],
      "text/plain": [
       "              ra_gal    dec_gal  ra_mag_gal  dec_mag_gal  true_redshift_gal  \\\n",
       "0         229.476257   2.996521  229.468369     2.993731           0.516565   \n",
       "1         229.101440   3.616219  229.092422     3.614582           0.518539   \n",
       "2         228.941650   4.343185  228.936646     4.339224           0.515073   \n",
       "3         228.951767   4.372902  228.946884     4.368696           0.515284   \n",
       "4         225.576538   4.221992  225.579742     4.215604           0.532277   \n",
       "...              ...        ...         ...          ...                ...   \n",
       "10503581  220.001755   9.576492  220.012024     9.573395           0.782083   \n",
       "10503582  219.746384  10.823242  219.757278    10.819694           0.786180   \n",
       "10503583  219.496506  14.939133  219.498062    14.946248           0.784246   \n",
       "10503584  219.492599  14.952271  219.494034    14.959308           0.784628   \n",
       "10503585  220.537445  15.872910  220.538803    15.884286           0.791731   \n",
       "\n",
       "          observed_redshift_gal    gamma1    gamma2  \n",
       "0                      0.515547 -0.005178 -0.009831  \n",
       "1                      0.518481  0.001703  0.005263  \n",
       "2                      0.520599  0.005639 -0.005669  \n",
       "3                      0.517117 -0.000059 -0.001578  \n",
       "4                      0.531047 -0.003390 -0.002501  \n",
       "...                         ...       ...       ...  \n",
       "10503581               0.792491 -0.004078  0.002490  \n",
       "10503582               0.786544 -0.006373 -0.004257  \n",
       "10503583               0.782211  0.007233  0.012594  \n",
       "10503584               0.789711  0.006697  0.010686  \n",
       "10503585               0.793883 -0.015907  0.004357  \n",
       "\n",
       "[10503586 rows x 8 columns]"
      ]
     },
     "execution_count": 10,
     "metadata": {},
     "output_type": "execute_result"
    }
   ],
   "source": [
    "sources"
   ]
  },
  {
   "cell_type": "code",
   "execution_count": 11,
   "id": "9094ef43-2c4f-4407-9318-9359f8f5b277",
   "metadata": {},
   "outputs": [],
   "source": [
    "col_names = ['ra_gal','dec_gal','r_com','gamma1','gamma2', 'weight']\n",
    "ra,dec,dcom,e1,e2,w = col_names\n",
    "redshift = 'true_redshift_gal'"
   ]
  },
  {
   "cell_type": "code",
   "execution_count": 12,
   "id": "e50aeb22-8247-4c98-8e2d-85a7df399e1a",
   "metadata": {},
   "outputs": [
    {
     "data": {
      "text/plain": [
       "4436"
      ]
     },
     "execution_count": 12,
     "metadata": {},
     "output_type": "execute_result"
    }
   ],
   "source": [
    "len(lenses)"
   ]
  },
  {
   "cell_type": "code",
   "execution_count": 12,
   "id": "db3cd0e9-6fc2-49d9-9cab-b38a710b28fa",
   "metadata": {},
   "outputs": [],
   "source": [
    "lenses[w] = np.ones(len(lenses))"
   ]
  },
  {
   "cell_type": "code",
   "execution_count": 16,
   "id": "0f570f83-0a45-4cc9-8460-bce650a5dd67",
   "metadata": {},
   "outputs": [],
   "source": [
    "def d_com(z):\n",
    "    return cosmology.comoving_distance(z).value"
   ]
  },
  {
   "cell_type": "code",
   "execution_count": 17,
   "id": "196dc51a-b0ca-40a4-9e37-3f171fc15a29",
   "metadata": {},
   "outputs": [],
   "source": [
    "lenses[dcom] = cosmology.comoving_distance(lenses[redshift]).value"
   ]
  },
  {
   "cell_type": "code",
   "execution_count": 18,
   "id": "7a7fd61d-0fcc-491a-a27c-f3970011be9e",
   "metadata": {},
   "outputs": [],
   "source": [
    "sources[dcom] = cosmology.comoving_distance(sources[redshift]).value"
   ]
  },
  {
   "cell_type": "code",
   "execution_count": 19,
   "id": "044fe01e-5369-4a03-b04f-a27dbe82c8fc",
   "metadata": {},
   "outputs": [],
   "source": [
    "sources[w] = np.ones(len(sources))"
   ]
  },
  {
   "cell_type": "code",
   "execution_count": null,
   "id": "e9414581-0192-4915-8098-01e096283c53",
   "metadata": {},
   "outputs": [],
   "source": []
  },
  {
   "cell_type": "markdown",
   "id": "25fd0a88-9ea4-4abf-b4f2-8ee11cacc07b",
   "metadata": {},
   "source": [
    "### Configuration "
   ]
  },
  {
   "cell_type": "code",
   "execution_count": 20,
   "id": "21646895",
   "metadata": {},
   "outputs": [
    {
     "name": "stdout",
     "output_type": "stream",
     "text": [
      "Number of patches 31\n"
     ]
    }
   ],
   "source": [
    "# parameters related with bins\n",
    "nbins = 10 # number of radial bins\n",
    "rmin = 0.2 # minimum value for rp (r in case of the quadrupole)\n",
    "rmax = 10. # maximum value for rp (r in case of the quadrupole)\n",
    "\n",
    "\n",
    "# Related to JK patches\n",
    "NPatches = int(nbins**(3./2.))\n",
    "print('Number of patches',NPatches)\n",
    "# Other configuration parameters\n",
    "ncores = 30 # Number of cores to run in parallel\n",
    "slop = 0. # Resolution for treecorr\n",
    "box = False # Indicates if the data corresponds to a box, otherwise it will assume a lightcone\n"
   ]
  },
  {
   "cell_type": "code",
   "execution_count": 22,
   "id": "f214add3",
   "metadata": {},
   "outputs": [],
   "source": [
    "config = {'col_names': col_names,\n",
    "          'nbins': nbins,\n",
    "          'rmin': rmin,\n",
    "          'rmax': rmax,\n",
    "          'NPatches': NPatches,\n",
    "          'ncores': ncores,\n",
    "          'slop': slop,\n",
    "          'box': box,\n",
    "         }"
   ]
  },
  {
   "cell_type": "code",
   "execution_count": 27,
   "id": "c0c7d103-6f13-44dc-9696-5137b5ae6d5c",
   "metadata": {},
   "outputs": [
    {
     "name": "stdout",
     "output_type": "stream",
     "text": [
      "{'col_names': ['ra_gal', 'dec_gal', 'r_com', 'gamma1', 'gamma2', 'weight'], 'nbins': 10, 'rmin': 0.2, 'rmax': 10.0, 'NPatches': 31, 'ncores': 30, 'slop': 0.0, 'box': False, 'pi_max': 60.0, 'npi': 5, 'mubins': 10, 'grid_resolution': 10, 'exact_position': True, 'sky_threshold': 1.0}\n"
     ]
    }
   ],
   "source": [
    "corr = compute_2p_corr(lenses,sources,lenses,lenses,config)"
   ]
  },
  {
   "cell_type": "code",
   "execution_count": 37,
   "id": "3428c598-3529-4bf6-8fe4-04362f0ff225",
   "metadata": {},
   "outputs": [],
   "source": [
    "corr.compute_delta_sigma()"
   ]
  },
  {
   "cell_type": "code",
   "execution_count": 31,
   "id": "fa41fa88-0763-4f25-84b2-88caf0e4288f",
   "metadata": {},
   "outputs": [],
   "source": [
    "import treecorr"
   ]
  },
  {
   "cell_type": "code",
   "execution_count": 32,
   "id": "75584aa2-1b7b-48c1-bd14-f0ec5980c7f1",
   "metadata": {},
   "outputs": [],
   "source": [
    "        sd = treecorr.NGCorrelation(nbins=config['nbins'], \n",
    "                                    min_sep=config['rmin'], \n",
    "                                    max_sep=config['rmax'], \n",
    "                                    bin_slop=config['slop'], brute = False, \n",
    "                                    verbose=0, var_method = 'jackknife')\n"
   ]
  },
  {
   "cell_type": "code",
   "execution_count": 33,
   "id": "f99f8cf8-16c8-4e1b-85dd-89f823912d97",
   "metadata": {},
   "outputs": [],
   "source": [
    "sd.process(corr.pcat, corr.scat, metric='Rperp', num_threads = config['ncores'])"
   ]
  },
  {
   "cell_type": "code",
   "execution_count": 38,
   "id": "0e1ab2c0-8a07-471b-a96e-a36687410cda",
   "metadata": {},
   "outputs": [
    {
     "data": {
      "text/plain": [
       "[<matplotlib.lines.Line2D at 0x7f0f7014f160>]"
      ]
     },
     "execution_count": 38,
     "metadata": {},
     "output_type": "execute_result"
    },
    {
     "data": {
      "image/png": "[encoded data removed]",
      "text/plain": [
       "<Figure size 640x480 with 1 Axes>"
      ]
     },
     "metadata": {},
     "output_type": "display_data"
    }
   ],
   "source": [
    "plt.plot(corr.gs.rp,corr.gs.xi)"
   ]
  },
  {
   "cell_type": "code",
   "execution_count": null,
   "id": "bae854fb-bd37-4ad3-b85d-030b6f6f3a52",
   "metadata": {},
   "outputs": [],
   "source": []
  }
 ],
 "metadata": {
  "kernelspec": {
   "display_name": "pyenv",
   "language": "python",
   "name": "pyenv"
  },
  "language_info": {
   "codemirror_mode": {
    "name": "ipython",
    "version": 3
   },
   "file_extension": ".py",
   "mimetype": "text/x-python",
   "name": "python",
   "nbconvert_exporter": "python",
   "pygments_lexer": "ipython3",
   "version": "3.9.18"
  }
 },
 "nbformat": 4,
 "nbformat_minor": 5
}
