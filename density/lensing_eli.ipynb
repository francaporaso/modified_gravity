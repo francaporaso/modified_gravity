{
 "cells": [
  {
   "cell_type": "markdown",
   "id": "b9766ddc-b377-4ca3-9798-da1b19811434",
   "metadata": {},
   "source": [
    "Ejemplos queries FS2 de cosmohub\n",
    "\n",
    "- lenses \n",
    "\n",
    "```SQL\n",
    "SELECT `halo_id`, `ra_gal`, `dec_gal`, `ra_mag_gal`, `dec_mag_gal`, `true_redshift_gal`, `observed_redshift_gal`\n",
    "FROM fs2_mock_std_2_1_10b_phz_wise \n",
    "WHERE `lm_halo` >14 and lm_halo < 14.5 and true_redshift_gal > 0.25 and true_redshift_gal < 0.35 and kind == 0\n",
    "```\n",
    "\n",
    "- sources\n",
    "```SQL\n",
    "SELECT `ra_gal`, `dec_gal`, `ra_mag_gal`, `dec_mag_gal`, `true_redshift_gal`, `observed_redshift_gal`, `gamma1`, `gamma2` \n",
    "FROM fs2_mock_std_2_1_10b_phz_wise\n",
    "WHERE `lm_halo` >14 and lm_halo < 14.5 and true_redshift_gal > 0.5 and true_redshift_gal < 0.8\n",
    "```"
   ]
  },
  {
   "cell_type": "code",
   "execution_count": 1,
   "id": "47978228-8ae2-4387-8fee-5b710e518318",
   "metadata": {},
   "outputs": [],
   "source": [
    "import sys\n",
    "import os\n",
    "import numpy as np\n",
    "import pandas as pd\n",
    "from astropy.cosmology import LambdaCDM\n",
    "import matplotlib.pyplot as plt\n",
    "import time as time\n",
    "# sys.path.append('/nfs/pic.es/user/e/egonzale/ia_cal/IACorr')\n",
    "from compute_IA_corr_from_data import compute_2p_corr\n",
    "cosmology = LambdaCDM(H0=100.0, Om0=0.3089, Ode0=0.6911)"
   ]
  },
  {
   "cell_type": "code",
   "execution_count": 62,
   "id": "373b7be2-f197-49bd-bd59-7ac85c1d3870",
   "metadata": {},
   "outputs": [],
   "source": [
    "import treecorr"
   ]
  },
  {
   "cell_type": "code",
   "execution_count": 2,
   "id": "1b3ba6b2-ed21-4a93-a5e5-5684fdf4891d",
   "metadata": {},
   "outputs": [],
   "source": [
    "sys.path.append('/home/fcaporaso/modified_gravity/')\n",
    "from lensing.funcs import lenscat_load"
   ]
  },
  {
   "cell_type": "code",
   "execution_count": 3,
   "id": "1bae1b1d-1d0a-48fd-af51-4119438a65a9",
   "metadata": {},
   "outputs": [],
   "source": [
    "from astropy.io import fits"
   ]
  },
  {
   "cell_type": "code",
   "execution_count": 4,
   "id": "0f570f83-0a45-4cc9-8460-bce650a5dd67",
   "metadata": {},
   "outputs": [],
   "source": [
    "def d_com(z):\n",
    "    return cosmology.comoving_distance(z).value"
   ]
  },
  {
   "cell_type": "code",
   "execution_count": 5,
   "id": "f340dddf-e391-472c-afb8-80bd7c5c8785",
   "metadata": {},
   "outputs": [],
   "source": [
    "def make_randoms(ra, dec, redshift,\n",
    "                 size_random = 100):\n",
    "    \n",
    "    print('Making randoms...')\n",
    "    np.random.seed(1)\n",
    "    \n",
    "    dec = np.deg2rad(dec)\n",
    "    sindec_rand = np.random.uniform(np.sin(dec.min()), np.sin(dec.max()), size_random)\n",
    "    dec_rand = np.arcsin(sindec_rand)*(180/np.pi)\n",
    "    ra_rand  = np.random.uniform(ra.min(), ra.max(), size_random)\n",
    "\n",
    "    y,xbins  = np.histogram(redshift, 25)\n",
    "    x  = xbins[:-1]+0.5*np.diff(xbins)\n",
    "    n = 3\n",
    "    poly = np.polyfit(x,y,n)\n",
    "    zr = np.random.uniform(redshift.min(),redshift.max(),size_random)\n",
    "    poly_y = np.poly1d(poly)(zr)\n",
    "    poly_y[poly_y<0] = 0.\n",
    "    peso = poly_y/sum(poly_y)\n",
    "    z_rand = np.random.choice(zr,size_random,replace=True,p=peso)\n",
    "\n",
    "    print('Wii randoms!')\n",
    "    return pd.DataFrame({'ra': ra_rand, 'dec': dec_rand, 'redshift':z_rand})\n"
   ]
  },
  {
   "cell_type": "code",
   "execution_count": 6,
   "id": "17e5a438-002b-45ee-9045-113d2a087e54",
   "metadata": {},
   "outputs": [],
   "source": [
    "path = '/home/fcaporaso/cats/L768/'"
   ]
  },
  {
   "cell_type": "code",
   "execution_count": 7,
   "id": "eb093626-e762-42a5-87b8-a4041861d2bc",
   "metadata": {},
   "outputs": [],
   "source": [
    "Rv_min, Rv_max, z_min, z_max, rho1_min, rho1_max, rho2_min, rho2_max, flag = 22.0,50.0,0.2,0.3,-1.0,0.0,-1.0,100.0,2.0\n",
    "ncores, nk = 1,1"
   ]
  },
  {
   "cell_type": "code",
   "execution_count": 8,
   "id": "623e5ccd-6b78-4cdc-a13c-de09001ea5e9",
   "metadata": {},
   "outputs": [],
   "source": [
    "lenses = pd.DataFrame(\n",
    "    lenscat_load(\n",
    "        path+'voids_LCDM_09.dat',\n",
    "        Rv_min, Rv_max, z_min, z_max, rho1_min, rho1_max, rho2_min, rho2_max, flag,ncores,nk\n",
    "    )[0].T,\n",
    "    columns=['rv','ra','dec','redshift','xv','yv','zv','rho1','rho2','logp','cmdist','flag']\n",
    ")"
   ]
  },
  {
   "cell_type": "code",
   "execution_count": 36,
   "id": "e9414581-0192-4915-8098-01e096283c53",
   "metadata": {},
   "outputs": [
    {
     "data": {
      "text/plain": [
       "214"
      ]
     },
     "execution_count": 36,
     "metadata": {},
     "output_type": "execute_result"
    }
   ],
   "source": [
    "len(lenses)"
   ]
  },
  {
   "cell_type": "code",
   "execution_count": 10,
   "id": "3db80bdc-c0f6-4996-86c9-08457233b4a2",
   "metadata": {},
   "outputs": [],
   "source": [
    "sources = pd.DataFrame(\n",
    "    fits.open(path+'l768_gr_centrals_19602.fits')[1].data,\n",
    ")\n",
    "sources.rename(columns={'ra_gal':'ra','dec_gal':'dec','true_redshift_gal':'redshift'},inplace=True)"
   ]
  },
  {
   "cell_type": "code",
   "execution_count": 11,
   "id": "29240e6f-51df-48fc-8863-b3bed0f94eee",
   "metadata": {},
   "outputs": [
    {
     "data": {
      "text/html": [
       "<div>\n",
       "<style scoped>\n",
       "    .dataframe tbody tr th:only-of-type {\n",
       "        vertical-align: middle;\n",
       "    }\n",
       "\n",
       "    .dataframe tbody tr th {\n",
       "        vertical-align: top;\n",
       "    }\n",
       "\n",
       "    .dataframe thead th {\n",
       "        text-align: right;\n",
       "    }\n",
       "</style>\n",
       "<table border=\"1\" class=\"dataframe\">\n",
       "  <thead>\n",
       "    <tr style=\"text-align: right;\">\n",
       "      <th></th>\n",
       "      <th>ra</th>\n",
       "      <th>dec</th>\n",
       "      <th>redshift</th>\n",
       "      <th>halo_lm</th>\n",
       "    </tr>\n",
       "  </thead>\n",
       "  <tbody>\n",
       "    <tr>\n",
       "      <th>0</th>\n",
       "      <td>266.795624</td>\n",
       "      <td>-8.432777</td>\n",
       "      <td>0.068933</td>\n",
       "      <td>13.629190</td>\n",
       "    </tr>\n",
       "    <tr>\n",
       "      <th>1</th>\n",
       "      <td>224.076447</td>\n",
       "      <td>-33.448631</td>\n",
       "      <td>0.049334</td>\n",
       "      <td>13.538427</td>\n",
       "    </tr>\n",
       "    <tr>\n",
       "      <th>2</th>\n",
       "      <td>239.543274</td>\n",
       "      <td>29.744623</td>\n",
       "      <td>0.005805</td>\n",
       "      <td>13.509583</td>\n",
       "    </tr>\n",
       "    <tr>\n",
       "      <th>3</th>\n",
       "      <td>200.170044</td>\n",
       "      <td>-19.591839</td>\n",
       "      <td>0.115107</td>\n",
       "      <td>14.108797</td>\n",
       "    </tr>\n",
       "    <tr>\n",
       "      <th>4</th>\n",
       "      <td>188.430923</td>\n",
       "      <td>-30.150970</td>\n",
       "      <td>0.084341</td>\n",
       "      <td>13.827502</td>\n",
       "    </tr>\n",
       "  </tbody>\n",
       "</table>\n",
       "</div>"
      ],
      "text/plain": [
       "           ra        dec  redshift    halo_lm\n",
       "0  266.795624  -8.432777  0.068933  13.629190\n",
       "1  224.076447 -33.448631  0.049334  13.538427\n",
       "2  239.543274  29.744623  0.005805  13.509583\n",
       "3  200.170044 -19.591839  0.115107  14.108797\n",
       "4  188.430923 -30.150970  0.084341  13.827502"
      ]
     },
     "execution_count": 11,
     "metadata": {},
     "output_type": "execute_result"
    }
   ],
   "source": [
    "sources.head()"
   ]
  },
  {
   "cell_type": "code",
   "execution_count": 64,
   "id": "9094ef43-2c4f-4407-9318-9359f8f5b277",
   "metadata": {},
   "outputs": [],
   "source": [
    "col_names = ['ra','dec','r_com','gamma1','gamma2', 'weight']\n",
    "ra,dec,r,e1,e2,w = col_names\n",
    "redshift = 'redshift'"
   ]
  },
  {
   "cell_type": "code",
   "execution_count": 13,
   "id": "e50aeb22-8247-4c98-8e2d-85a7df399e1a",
   "metadata": {},
   "outputs": [
    {
     "data": {
      "text/plain": [
       "30948609"
      ]
     },
     "execution_count": 13,
     "metadata": {},
     "output_type": "execute_result"
    }
   ],
   "source": [
    "len(sources)"
   ]
  },
  {
   "cell_type": "code",
   "execution_count": 15,
   "id": "c67460d3-90b5-4197-b518-576fa1175f2d",
   "metadata": {},
   "outputs": [
    {
     "name": "stdout",
     "output_type": "stream",
     "text": [
      "Making randoms...\n",
      "Wii randoms!\n",
      "Making randoms...\n",
      "Wii randoms!\n"
     ]
    }
   ],
   "source": [
    "random_lenses = make_randoms(lenses[ra],lenses[dec],lenses[redshift], size_random=len(lenses)*2)\n",
    "random_sources = make_randoms(sources[ra],sources[dec], sources[redshift], size_random=len(sources)*2)"
   ]
  },
  {
   "cell_type": "code",
   "execution_count": 16,
   "id": "b60b7af1-8156-480d-bfc4-35d0bd45b7cd",
   "metadata": {},
   "outputs": [
    {
     "data": {
      "image/png": "[encoded data removed]",
      "text/plain": [
       "<Figure size 600x900 with 6 Axes>"
      ]
     },
     "metadata": {},
     "output_type": "display_data"
    }
   ],
   "source": [
    "fig, ax = plt.subplots(3,2,\n",
    "                      figsize=(6,9))\n",
    "\n",
    "# axL,axS = ax[:,0], ax[:,1]\n",
    "\n",
    "for j,name in enumerate(['ra','dec','redshift']):\n",
    "\n",
    "    ax[j,0].hist(lenses[name], histtype='step', bins=50, density=True)\n",
    "    ax[j,0].hist(random_lenses[name], histtype='step', bins=50, density=True)\n",
    "    \n",
    "    ax[j,1].hist(sources[name], histtype='step', bins=50, density=True)\n",
    "    ax[j,1].hist(random_sources[name], histtype='step', bins=50, density=True)\n",
    "\n",
    "# ax[-1,-1].legend()\n",
    "plt.show()"
   ]
  },
  {
   "cell_type": "code",
   "execution_count": 17,
   "id": "db3cd0e9-6fc2-49d9-9cab-b38a710b28fa",
   "metadata": {},
   "outputs": [],
   "source": [
    "lenses[w] = np.ones(len(lenses))"
   ]
  },
  {
   "cell_type": "code",
   "execution_count": 66,
   "id": "2cbc5bc8-b782-46c7-808b-ba2b93bf4c1a",
   "metadata": {},
   "outputs": [],
   "source": [
    "random_lenses[w] = np.ones(len(random_lenses))\n",
    "random_sources[w] = np.ones(len(random_sources))"
   ]
  },
  {
   "cell_type": "code",
   "execution_count": 18,
   "id": "044fe01e-5369-4a03-b04f-a27dbe82c8fc",
   "metadata": {},
   "outputs": [],
   "source": [
    "sources[w] = np.ones(len(sources))"
   ]
  },
  {
   "cell_type": "code",
   "execution_count": 19,
   "id": "e6e21653-1c1e-4d63-a3a3-00674fe01059",
   "metadata": {},
   "outputs": [],
   "source": [
    "lenses[dcom] = cosmology.comoving_distance(lenses[redshift]).value"
   ]
  },
  {
   "cell_type": "code",
   "execution_count": 20,
   "id": "e4dfa374-6f33-4928-860d-a9d2b2f45709",
   "metadata": {},
   "outputs": [],
   "source": [
    "random_lenses[dcom] = cosmology.comoving_distance(random_lenses[redshift]).value"
   ]
  },
  {
   "cell_type": "code",
   "execution_count": 21,
   "id": "7a7fd61d-0fcc-491a-a27c-f3970011be9e",
   "metadata": {},
   "outputs": [],
   "source": [
    "sources[dcom] = cosmology.comoving_distance(sources[redshift]).value"
   ]
  },
  {
   "cell_type": "code",
   "execution_count": 22,
   "id": "ddf7c6bc-dbbd-4141-aa8e-ac86fd53d6fe",
   "metadata": {},
   "outputs": [],
   "source": [
    "random_sources[dcom] = cosmology.comoving_distance(random_sources[redshift]).value"
   ]
  },
  {
   "cell_type": "code",
   "execution_count": 23,
   "id": "eec53e21-90d3-45f3-a35e-b0f4e399ec66",
   "metadata": {},
   "outputs": [],
   "source": [
    "## caso VOID-GALAXY solo neceisto posiciones, relleno formas con 1\n",
    "sources[e1] = np.ones(len(sources))\n",
    "sources[e2] = np.ones(len(sources))"
   ]
  },
  {
   "cell_type": "code",
   "execution_count": 40,
   "id": "61d17bf2-5525-4dd4-98f1-32f4839d3214",
   "metadata": {},
   "outputs": [],
   "source": [
    "## caso VOID-GALAXY solo neceisto posiciones, relleno formas con 1\n",
    "lenses[e1] = np.ones(len(lenses))\n",
    "lenses[e2] = np.ones(len(lenses))"
   ]
  },
  {
   "cell_type": "markdown",
   "id": "25fd0a88-9ea4-4abf-b4f2-8ee11cacc07b",
   "metadata": {},
   "source": [
    "### Configuration "
   ]
  },
  {
   "cell_type": "code",
   "execution_count": 28,
   "id": "21646895",
   "metadata": {},
   "outputs": [
    {
     "name": "stdout",
     "output_type": "stream",
     "text": [
      "Number of patches 31\n"
     ]
    }
   ],
   "source": [
    "# parameters related with bins\n",
    "nbins = 10 # number of radial bins\n",
    "rmin = 0.01 # minimum value for rp (r in case of the quadrupole)\n",
    "rmax = 5.0 # maximum value for rp (r in case of the quadrupole)\n",
    "\n",
    "rmin*=lenses['rv'].mean()\n",
    "rmax*=lenses['rv'].mean()\n",
    "\n",
    "# Related to JK patches\n",
    "NPatches = int(nbins**(3./2.))\n",
    "print('Number of patches',NPatches)\n",
    "# Other configuration parameters\n",
    "ncores = 2 # Number of cores to run in parallel\n",
    "slop = 0. # Resolution for treecorr\n",
    "box = False # Indicates if the data corresponds to a box, otherwise it will assume a lightcone\n"
   ]
  },
  {
   "cell_type": "code",
   "execution_count": 29,
   "id": "f214add3",
   "metadata": {},
   "outputs": [],
   "source": [
    "config = {'col_names': col_names,\n",
    "          'nbins': nbins,\n",
    "          'rmin': rmin,\n",
    "          'rmax': rmax,\n",
    "          'NPatches': NPatches,\n",
    "          'ncores': ncores,\n",
    "          'slop': slop,\n",
    "          'box': box,\n",
    "         }"
   ]
  },
  {
   "cell_type": "code",
   "execution_count": 67,
   "id": "529b0c27-8e60-4dc2-8cd6-9f55467ad8c0",
   "metadata": {},
   "outputs": [],
   "source": [
    "dvcat = treecorr.Catalog(\n",
    "    ra=lenses[ra], \n",
    "    dec=lenses[dec], \n",
    "    w = lenses[w], \n",
    "    r=lenses[r], \n",
    "    npatch = config['NPatches'], \n",
    "    ra_units='deg', dec_units='deg'\n",
    ")\n",
    "\n",
    "dgcat = treecorr.Catalog(\n",
    "    ra=sources[ra], \n",
    "    dec=sources[dec], \n",
    "    w = sources[w], \n",
    "    r=sources[r], \n",
    "    npatch = config['NPatches'], \n",
    "    ra_units='deg', dec_units='deg'\n",
    ")\n",
    "\n",
    "rvcat = treecorr.Catalog(\n",
    "    ra=random_lenses[ra], \n",
    "    dec=random_lenses[dec], \n",
    "    w = random_lenses[w], \n",
    "    r=random_lenses[r], \n",
    "    npatch = config['NPatches'], \n",
    "    ra_units='deg', dec_units='deg'\n",
    ")\n",
    "\n",
    "rgcat = treecorr.Catalog(\n",
    "    ra=random_sources[ra], \n",
    "    dec=random_sources[dec], \n",
    "    w = random_sources[w], \n",
    "    r=random_sources[r], \n",
    "    npatch = config['NPatches'], \n",
    "    ra_units='deg', dec_units='deg'\n",
    ")"
   ]
  },
  {
   "cell_type": "code",
   "execution_count": 68,
   "id": "c0c7d103-6f13-44dc-9696-5137b5ae6d5c",
   "metadata": {},
   "outputs": [
    {
     "ename": "NameError",
     "evalue": "name 'Nd' is not defined",
     "output_type": "error",
     "traceback": [
      "\u001b[0;31m---------------------------------------------------------------------------\u001b[0m",
      "\u001b[0;31mNameError\u001b[0m                                 Traceback (most recent call last)",
      "Cell \u001b[0;32mIn[68], line 18\u001b[0m\n\u001b[1;32m     16\u001b[0m Ndg \u001b[38;5;241m=\u001b[39m dgcat\u001b[38;5;241m.\u001b[39msumw\n\u001b[1;32m     17\u001b[0m Nrg \u001b[38;5;241m=\u001b[39m rgcat\u001b[38;5;241m.\u001b[39msumw\n\u001b[0;32m---> 18\u001b[0m NNpairs \u001b[38;5;241m=\u001b[39m (\u001b[43mNd\u001b[49m\u001b[38;5;241m*\u001b[39m(Nd \u001b[38;5;241m-\u001b[39m \u001b[38;5;241m1\u001b[39m))\u001b[38;5;241m/\u001b[39m\u001b[38;5;241m2.\u001b[39m\n\u001b[1;32m     19\u001b[0m RRpairs \u001b[38;5;241m=\u001b[39m (Nr\u001b[38;5;241m*\u001b[39m(Nr \u001b[38;5;241m-\u001b[39m \u001b[38;5;241m1\u001b[39m))\u001b[38;5;241m/\u001b[39m\u001b[38;5;241m2.\u001b[39m\n\u001b[1;32m     20\u001b[0m NRpairs \u001b[38;5;241m=\u001b[39m (rcat\u001b[38;5;241m.\u001b[39msumw\u001b[38;5;241m*\u001b[39mdcat\u001b[38;5;241m.\u001b[39msumw)\n",
      "\u001b[0;31mNameError\u001b[0m: name 'Nd' is not defined"
     ]
    }
   ],
   "source": [
    "# arrays to store the output\n",
    "r     = np.zeros(config['nbins'])\n",
    "mean_r     = np.zeros(config['nbins'])\n",
    "mean_logr     = np.zeros(config['nbins'])\n",
    "xi = np.zeros((config['npi'], config['nbins']))\n",
    "xi_jk = np.zeros((config['NPatches'], config['npi'], config['nbins']))\n",
    "\n",
    "dd_jk = np.zeros_like(xi_jk)\n",
    "dr_jk = np.zeros_like(xi_jk)\n",
    "rr_jk = np.zeros_like(xi_jk)\n",
    "\n",
    "\n",
    "# Pair normalization fractions\n",
    "Ndv = dvcat.sumw\n",
    "Nrv = rvcat.sumw\n",
    "Ndg = dgcat.sumw\n",
    "Nrg = rgcat.sumw\n",
    "NNpairs = (Nd*(Nd - 1))/2.\n",
    "RRpairs = (Nr*(Nr - 1))/2.\n",
    "NRpairs = (rcat.sumw*dcat.sumw)\n",
    "\n",
    "f0 = RRpairs/NNpairs\n",
    "f1 = RRpairs/NRpairs\n",
    "\n",
    "Pi = np.linspace(-1.*config['pi_max'], config['pi_max'], config['npi']+1)\n",
    "pibins = zip(Pi[:-1],Pi[1:])\n",
    "\n",
    "# now loop over Pi bins, and compute w(r_p | Pi)\n",
    "for p,(plow,phigh) in enumerate(pibins):\n",
    "\n",
    "    dvdr = treecorr.NNCorrelation(\n",
    "        nbins=config['nbins'], \n",
    "        min_sep=config['rmin'], \n",
    "        max_sep=config['rmax'], \n",
    "        min_rpar=plow, max_rpar=phigh,\n",
    "        bin_slop=config['slop'], brute = False, \n",
    "        verbose=0, var_method = 'jackknife'\n",
    "    )\n",
    "\n",
    "    dvrg = treecorr.NNCorrelation(\n",
    "        nbins=config['nbins'], \n",
    "        min_sep=config['rmin'], \n",
    "        max_sep=config['rmax'], \n",
    "        min_rpar=plow, max_rpar=phigh,\n",
    "        bin_slop=config['slop'], brute = False, \n",
    "        verbose=0, var_method = 'jackknife'\n",
    "    )\n",
    "        \n",
    "    rvdg = treecorr.NNCorrelation(\n",
    "        nbins=config['nbins'], \n",
    "        min_sep=config['rmin'], \n",
    "        max_sep=config['rmax'], \n",
    "        min_rpar=plow, max_rpar=phigh,\n",
    "        bin_slop=config['slop'], brute = False, \n",
    "        verbose=0, var_method = 'jackknife'\n",
    "    )\n",
    "\n",
    "    rvrg = treecorr.NNCorrelation(\n",
    "        nbins=config['nbins'], \n",
    "        min_sep=config['rmin'], \n",
    "        max_sep=config['rmax'], \n",
    "        min_rpar=plow, max_rpar=phigh,\n",
    "        bin_slop=config['slop'], brute = False, \n",
    "        verbose=0, var_method = 'jackknife'\n",
    "    )\n",
    "    \n",
    "    if config['box']:\n",
    "        factor = 0.5\n",
    "        dd.process(dcat,dcat, metric='Rperp', num_threads = config['ncores'])\n",
    "        rr.process(rcat,rcat, metric='Rperp', num_threads = config['ncores'])\n",
    "    else:\n",
    "        factor = 1.0\n",
    "        dvdg.process(dvcat, dgcat, metric='Rperp', num_threads = config['ncores'])\n",
    "        dvrg.process(dvcat, rgcat, metric='Rperp', num_threads = config['ncores'])\n",
    "        rvdg.process(rvcat, dgcat, metric='Rperp', num_threads = config['ncores'])\n",
    "        rvrg.process(rvcat, rgcat, metric='Rperp', num_threads = config['ncores'])\n",
    "\n",
    "    dr.process(dcat,rcat, metric='Rperp', num_threads = config['ncores'])\n",
    "\n",
    "    r[:] = np.copy(dd.rnom)\n",
    "    mean_r[:] = np.copy(dd.meanr)\n",
    "    mean_logr[:] = np.copy(dd.meanlogr)\n",
    "\n",
    "    xi[p, :] = (dd.weight*factor*f0 - (2.*dr.weight)*f1 + rr.weight*factor) / (rr.weight*factor)\n",
    "\n",
    "\n",
    "    #Here I compute the variance\n",
    "    func = lambda corrs: corrs[0].weight*factor\n",
    "    func2 = lambda corrs: corrs[0].weight\n",
    "    dd_jk[:, p, :], weight = treecorr.build_multi_cov_design_matrix([dd], 'jackknife', func = func)\n",
    "    dr_jk[:, p, :], weight = treecorr.build_multi_cov_design_matrix([dr], 'jackknife', func = func2)\n",
    "    rr_jk[:, p, :], weight = treecorr.build_multi_cov_design_matrix([rr], 'jackknife', func = func)\n",
    "\n",
    "    dd.finalize()\n",
    "    dr.finalize()\n",
    "    rr.finalize()\n",
    "\n",
    "for i in range(config['NPatches']):\n",
    "\n",
    "    swd = np.sum(dcat.w[~(dcat.patch == i)])\n",
    "    swr = np.sum(rcat.w[~(rcat.patch == i)])\n",
    "\n",
    "    NNpairs_JK = (swd*(swd - 1))/2.\n",
    "    RRpairs_JK = (swr*(swr - 1))/2.\n",
    "    NRpairs_JK = (swd*swr)\n",
    "\n",
    "    f0_jk = RRpairs_JK/NNpairs_JK\n",
    "    f1_jk = RRpairs_JK/NRpairs_JK\n",
    "\n",
    "    xi_jk[i, :, :] = (dd_jk[i, :, :]*f0_jk*factor - (2.*dr_jk[i, :, :])*f1_jk + rr_jk[i, :, :]*factor) / (rr_jk[i, :, :]*factor)\n",
    "\n",
    "xi[np.isinf(xi)] = 0. #It sets to 0 the values of xi_gp that are infinite\n",
    "xi[np.isnan(xi)] = 0. #It sets to 0 the values of xi_gp that are null\n",
    "\n",
    "xPi=(Pi[:-1]+Pi[1:])/2 #It returns an array going from -9.5,-8.5,...,8.5,9.5"
   ]
  },
  {
   "cell_type": "code",
   "execution_count": null,
   "id": "bae854fb-bd37-4ad3-b85d-030b6f6f3a52",
   "metadata": {},
   "outputs": [],
   "source": []
  }
 ],
 "metadata": {
  "kernelspec": {
   "display_name": "Python 3 (ipykernel)",
   "language": "python",
   "name": "python3"
  },
  "language_info": {
   "codemirror_mode": {
    "name": "ipython",
    "version": 3
   },
   "file_extension": ".py",
   "mimetype": "text/x-python",
   "name": "python",
   "nbconvert_exporter": "python",
   "pygments_lexer": "ipython3",
   "version": "3.10.15"
  }
 },
 "nbformat": 4,
 "nbformat_minor": 5
}
