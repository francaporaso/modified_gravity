{
 "cells": [
  {
   "cell_type": "code",
   "execution_count": 1,
   "id": "203c1404-f545-4624-b5e0-90d8d0d07303",
   "metadata": {},
   "outputs": [],
   "source": [
    "import numpy as np\n",
    "import pandas as pd\n",
    "from astropy.cosmology import LambdaCDM\n",
    "import matplotlib.pyplot as plt\n",
    "import treecorr\n",
    "from astropy.io import fits\n",
    "import sys\n",
    "sys.path.append('/home/fcaporaso/modified_gravity/')\n",
    "from lensing.funcs import lenscat_load\n",
    "\n",
    "cosmology = LambdaCDM(H0=100.0, Om0=0.3089, Ode0=0.6911)\n"
   ]
  },
  {
   "cell_type": "code",
   "execution_count": 2,
   "id": "0f570f83-0a45-4cc9-8460-bce650a5dd67",
   "metadata": {},
   "outputs": [],
   "source": [
    "def d_com(z):\n",
    "    global cosmology\n",
    "    return cosmology.comoving_distance(z).value"
   ]
  },
  {
   "cell_type": "code",
   "execution_count": 3,
   "id": "f340dddf-e391-472c-afb8-80bd7c5c8785",
   "metadata": {},
   "outputs": [],
   "source": [
    "def make_randoms(ra, dec, redshift,\n",
    "                 size_random = 100):\n",
    "    \n",
    "    print('Making randoms...')\n",
    "    np.random.seed(1)\n",
    "    \n",
    "    dec = np.deg2rad(dec)\n",
    "    sindec_rand = np.random.uniform(np.sin(dec.min()), np.sin(dec.max()), size_random)\n",
    "    dec_rand = np.arcsin(sindec_rand)*(180/np.pi)\n",
    "    ra_rand  = np.random.uniform(ra.min(), ra.max(), size_random)\n",
    "\n",
    "    y,xbins  = np.histogram(redshift, 25)\n",
    "    x  = xbins[:-1]+0.5*np.diff(xbins)\n",
    "    n = 3\n",
    "    poly = np.polyfit(x,y,n)\n",
    "    zr = np.random.uniform(redshift.min(),redshift.max(),size_random)\n",
    "    poly_y = np.poly1d(poly)(zr)\n",
    "    poly_y[poly_y<0] = 0.\n",
    "    peso = poly_y/sum(poly_y)\n",
    "    z_rand = np.random.choice(zr,size_random,replace=True,p=peso)\n",
    "\n",
    "    print('Wii randoms!')\n",
    "    return pd.DataFrame({'ra': ra_rand, 'dec': dec_rand, 'redshift':z_rand})\n"
   ]
  },
  {
   "cell_type": "code",
   "execution_count": 4,
   "id": "0bcfebfb-65dd-46b6-8998-b6dd236852c3",
   "metadata": {},
   "outputs": [],
   "source": [
    "class Catalogos:\n",
    "    def __init__(self, cat_config, lens_name, source_name):\n",
    "        path = '/home/fcaporaso/cats/L768/'\n",
    "        \n",
    "        self.lenses = pd.DataFrame(\n",
    "            lenscat_load(\n",
    "                path+lens_name,\n",
    "                *cat_config.values(),\n",
    "                1,1\n",
    "            )[0].T,\n",
    "            columns=['rv',\n",
    "                     'ra','dec','redshift',\n",
    "                     'xv','yv','zv',\n",
    "                     'rho1','rho2',\n",
    "                     'logp','cmdist',\n",
    "                     'flag']\n",
    "        )\n",
    "        \n",
    "        self.sources = pd.read_parquet(path+source_name).sample(frac=0.5, random_state=1)\n",
    "        self.sources.rename(\n",
    "            columns={\n",
    "                'ra_gal':'ra',\n",
    "                'dec_gal':'dec',\n",
    "                'true_redshift_gal':'redshift',\n",
    "                'r_gal':'r_com'},\n",
    "            inplace=True\n",
    "        )\n",
    "        query = f'redshift < {cat_config[\"z_max\"]}+0.1 and redshift >= {cat_config[\"z_min\"]}-0.1'\n",
    "        self.sources.query(query,inplace=True)\n",
    "        \n",
    "        self.random_lenses = make_randoms(\n",
    "            self.lenses.ra,\n",
    "            self.lenses.dec,\n",
    "            self.lenses.redshift,\n",
    "            size_random=len(self.lenses)*2\n",
    "        )\n",
    "\n",
    "        self.random_sources = make_randoms(\n",
    "            self.sources.ra,\n",
    "            self.sources.dec,\n",
    "            self.sources.r_com, \n",
    "            size_random=len(self.sources)*2\n",
    "        )\n",
    "        \n",
    "        self.lenses['w'] = np.ones(len(self.lenses))\n",
    "        self.sources['w'] = np.ones(len(self.sources))\n",
    "        self.random_lenses['w'] = np.ones(len(self.random_lenses))\n",
    "        self.random_sources['w'] = np.ones(len(self.random_sources))\n",
    "        \n",
    "        self.lenses['r_com'] = d_com(self.lenses.redshift)\n",
    "        self.random_lenses['r_com'] = d_com(self.random_lenses.redshift)\n",
    "        self.random_sources.rename(columns={'redshift':'r_com'}, inplace=True)\n"
   ]
  },
  {
   "cell_type": "code",
   "execution_count": 5,
   "id": "fe2bd46a-59aa-437b-bcbe-2c363faa472c",
   "metadata": {},
   "outputs": [],
   "source": [
    "class VoidGalaxyCrossCorrelation:\n",
    "    \n",
    "    def __init__(self, config_treecorr):\n",
    "        self.config : dict = config_treecorr\n",
    "        \n",
    "    def load_treecorrcatalogs(self, lenses, sources, random_lenses, random_sources):\n",
    "        \n",
    "        ## Voids\n",
    "        self.dvcat = treecorr.Catalog(\n",
    "            ra=lenses.ra,\n",
    "            dec=lenses.dec,\n",
    "            w=lenses.w,\n",
    "            r=lenses.r_com,\n",
    "            npatch=self.config['NPatches'],\n",
    "            ra_units='deg',\n",
    "            dec_units='deg',\n",
    "        )\n",
    "\n",
    "        ## Tracers (gx)\n",
    "        self.dgcat = treecorr.Catalog(\n",
    "            ra=sources.ra, \n",
    "            dec=sources.dec, \n",
    "            w = sources.w, \n",
    "            r=sources.r_com, \n",
    "            patch_centers= self.dvcat.patch_centers,\n",
    "            ra_units='deg', dec_units='deg'\n",
    "        )\n",
    "\n",
    "        ## Random voids\n",
    "        self.rvcat = treecorr.Catalog(\n",
    "            ra=random_lenses.ra, \n",
    "            dec=random_lenses.dec, \n",
    "            w = random_lenses.w, \n",
    "            r=random_lenses.r_com, \n",
    "            patch_centers= self.dvcat.patch_centers,\n",
    "            ra_units='deg', dec_units='deg'\n",
    "        )\n",
    "\n",
    "        ## Random tracers (gx)\n",
    "        self.rgcat = treecorr.Catalog(\n",
    "            ra=random_sources.ra, \n",
    "            dec=random_sources.dec, \n",
    "            w = random_sources.w, \n",
    "            r=random_sources.r_com, \n",
    "            patch_centers= self.dvcat.patch_centers,\n",
    "            ra_units='deg', dec_units='deg'\n",
    "        )\n",
    "\n",
    "    def calculate_corr(self):\n",
    "        \n",
    "        DvDg = treecorr.NNCorrelation(\n",
    "            nbins=self.config['nbins'], \n",
    "            min_sep=self.config['rmin'], \n",
    "            max_sep=self.config['rmax'], \n",
    "            bin_slop=self.config['slop'], brute = False, \n",
    "            verbose=0, var_method = 'jackknife',\n",
    "            bin_type='Linear'\n",
    "        )\n",
    "\n",
    "        DvRg = treecorr.NNCorrelation(\n",
    "            nbins=self.config['nbins'], \n",
    "            min_sep=self.config['rmin'], \n",
    "            max_sep=self.config['rmax'], \n",
    "            bin_slop=self.config['slop'], brute = False, \n",
    "            verbose=0, var_method = 'jackknife',\n",
    "            bin_type='Linear'\n",
    "        )\n",
    "\n",
    "        RvDg = treecorr.NNCorrelation(\n",
    "            nbins=self.config['nbins'], \n",
    "            min_sep=self.config['rmin'], \n",
    "            max_sep=self.config['rmax'], \n",
    "            bin_slop=self.config['slop'], brute = False, \n",
    "            verbose=0, var_method = 'jackknife',\n",
    "            bin_type='Linear'\n",
    "        )\n",
    "\n",
    "        RvRg = treecorr.NNCorrelation(\n",
    "            nbins=self.config['nbins'], \n",
    "            min_sep=self.config['rmin'], \n",
    "            max_sep=self.config['rmax'], \n",
    "            bin_slop=self.config['slop'], brute = False, \n",
    "            verbose=0, var_method = 'jackknife',\n",
    "            bin_type='Linear'\n",
    "        )\n",
    "        \n",
    "        DvDg.process(self.dvcat, self.dgcat, num_threads=self.config['ncores'])\n",
    "        DvRg.process(self.dvcat, self.rgcat, num_threads=self.config['ncores'])\n",
    "        RvDg.process(self.rvcat, self.dgcat, num_threads=self.config['ncores'])\n",
    "        RvRg.process(self.rvcat, self.rgcat, num_threads=self.config['ncores'])\n",
    "\n",
    "        self.r = DvDg.meanr\n",
    "        self.xi, self.varxi = DvDg.calculateXi(dr=DvRg, rd=RvDg, rr=RvRg)\n",
    "        self.cov = DvDg.cov\n",
    "    \n",
    "    def run(self, cats):\n",
    "        self.load_treecorrcatalogs(\n",
    "            cats.lenses,\n",
    "            cats.sources,\n",
    "            cats.random_lenses,\n",
    "            cats.random_sources\n",
    "        )\n",
    "        self.calculate_corr()\n",
    "        \n",
    "    def plot_corr(self, label):\n",
    "\n",
    "        fig = plt.figure(figsize=(8,6))\n",
    "        ax = fig.add_axes([1,1,1,1])\n",
    "        ax.errorbar(self.r, self.xi, self.varxi, fmt='.-', capsize=2, c='purple', label=label)\n",
    "        ax.set_xlabel('meanr [Mpc/h]')\n",
    "        ax.set_ylabel('$\\\\xi$')\n",
    "        return ax\n",
    "        # plt.title('fR')\n",
    "        #plt.text(40,-0.6, f'$R_v \\\\in$ ({Rv_min},{Rv_max})')\n",
    "        #plt.text(40,-0.65, f'$z \\\\in$ ({z_min},{z_max})')"
   ]
  },
  {
   "cell_type": "markdown",
   "id": "e57262f6-6e6c-4ed3-9088-0cdbe68ee463",
   "metadata": {},
   "source": [
    "## Catalogos a correlacionar"
   ]
  },
  {
   "cell_type": "code",
   "execution_count": 6,
   "id": "18646fb1-37e9-4272-8ec1-80b7fb42ef2a",
   "metadata": {},
   "outputs": [],
   "source": [
    "Rv_min = 15.0 # (0, 100)\n",
    "Rv_max = 17.0 # (Rv_min+dR, 100)\n",
    "z_min = 0.5 # (0.0, 0.6)\n",
    "z_max = 0.6 # (z_min, 0.6)\n",
    "rho1_min = -1.0 # en gral, no tocar\n",
    "rho1_max = 0.0 # -0.8 es más correcto, pero da igual...\n",
    "rho2_min = 0.0 # (-1,100)\n",
    "rho2_max = 100.0 # (rho2_min, 100)\n",
    "flag = 2.0 # 2 == voids muy confiables"
   ]
  },
  {
   "cell_type": "code",
   "execution_count": 7,
   "id": "d1aee582-db1f-469a-93fd-52f027c9765f",
   "metadata": {},
   "outputs": [],
   "source": [
    "cat_config = {\n",
    "    'Rv_min':Rv_min,\n",
    "    'Rv_max':Rv_max,\n",
    "    'z_min':z_min,\n",
    "    'z_max':z_max,\n",
    "    'rho1_min':rho1_min,\n",
    "    'rho1_max':rho1_max,\n",
    "    'rho2_min':rho2_min,\n",
    "    'rho2_max':rho2_max,\n",
    "    'flag':flag,\n",
    "}"
   ]
  },
  {
   "cell_type": "code",
   "execution_count": 8,
   "id": "cba3dd78-1e56-4259-b7c8-3c44168ae40c",
   "metadata": {},
   "outputs": [],
   "source": [
    "lens_name = ['voids_LCDM_09.dat', 'voids_fR_09.dat']\n",
    "source_name = ['l768_gr_galaxiesz00-07_bucket1of3_19814.parquet',\n",
    "               'l768_mg_galaxiesz00-07_bucket1of3_19813.parquet']"
   ]
  },
  {
   "cell_type": "code",
   "execution_count": 9,
   "id": "d7622d70-d583-4800-bb10-c2fdd31adc38",
   "metadata": {},
   "outputs": [
    {
     "name": "stdout",
     "output_type": "stream",
     "text": [
      "Making randoms...\n",
      "Wii randoms!\n",
      "Making randoms...\n",
      "Wii randoms!\n",
      "Making randoms...\n",
      "Wii randoms!\n",
      "Making randoms...\n",
      "Wii randoms!\n"
     ]
    }
   ],
   "source": [
    "cats_LCDM = Catalogos(cat_config, lens_name[0], source_name[0])\n",
    "cats_fR = Catalogos(cat_config, lens_name[1], source_name[1])"
   ]
  },
  {
   "cell_type": "markdown",
   "id": "a5ee512d-bf78-40de-8a73-12681f839d2a",
   "metadata": {
    "jp-MarkdownHeadingCollapsed": true,
    "tags": []
   },
   "source": [
    "### Histogramas para chequear randomness"
   ]
  },
  {
   "cell_type": "markdown",
   "id": "a461e987-7a32-48e4-bba1-8804840c0b11",
   "metadata": {
    "tags": []
   },
   "source": [
    "#### LCDM"
   ]
  },
  {
   "cell_type": "code",
   "execution_count": null,
   "id": "1c86ed91-90f8-42c9-99c9-df53333ade9a",
   "metadata": {
    "tags": []
   },
   "outputs": [],
   "source": [
    "plt.hist(cats_LCDM.lenses.rv,density=True,histtype='step')\n",
    "plt.xlabel('$R_v$')\n",
    "plt.show()"
   ]
  },
  {
   "cell_type": "code",
   "execution_count": null,
   "id": "29240e6f-51df-48fc-8863-b3bed0f94eee",
   "metadata": {
    "tags": []
   },
   "outputs": [],
   "source": [
    "plt.hist(cats_LCDM.lenses.redshift, density=True, histtype='step',label='lenses')\n",
    "plt.hist(cats_LCDM.sources.redshift, density=True, histtype='step',label='sources')\n",
    "plt.xlabel('redshift')\n",
    "plt.legend()\n",
    "plt.show()"
   ]
  },
  {
   "cell_type": "code",
   "execution_count": null,
   "id": "b60b7af1-8156-480d-bfc4-35d0bd45b7cd",
   "metadata": {
    "tags": []
   },
   "outputs": [],
   "source": [
    "fig, ax = plt.subplots(3,2,\n",
    "                      figsize=(6,9))\n",
    "\n",
    "# axL,axS = ax[:,0], ax[:,1]\n",
    "\n",
    "for j,name in enumerate(['ra','dec','r_com']):\n",
    "\n",
    "    ax[j,0].hist(cats_LCDM.lenses[name], histtype='step', bins=50, density=True)\n",
    "    ax[j,0].hist(cats_LCDM.random_lenses[name], histtype='step', bins=50, density=True)\n",
    "    \n",
    "    ax[j,1].hist(cats_LCDM.sources[name], histtype='step', bins=50, density=True)\n",
    "    ax[j,1].hist(cats_LCDM.random_sources[name], histtype='step', bins=50, density=True)\n",
    "\n",
    "# ax[-1,-1].legend()\n",
    "plt.show()"
   ]
  },
  {
   "cell_type": "markdown",
   "id": "b790c13e-06ee-411f-82a9-b0fcf323ddcd",
   "metadata": {},
   "source": [
    "#### fR"
   ]
  },
  {
   "cell_type": "code",
   "execution_count": null,
   "id": "a4ac1ad6-bd12-41ca-805a-35f073806a9b",
   "metadata": {
    "tags": []
   },
   "outputs": [],
   "source": [
    "plt.hist(cats_fR.sources.r_com, bins=50, histtype='step', density=True)\n",
    "plt.hist(cats_fR.random_sources.r_com, bins=50, histtype='step', density=True)\n",
    "plt.show()"
   ]
  },
  {
   "cell_type": "code",
   "execution_count": null,
   "id": "d5c3d01a-8192-44ef-b24c-04a0642fc063",
   "metadata": {
    "tags": []
   },
   "outputs": [],
   "source": [
    "plt.hist(cats_fR.lenses.rv,density=True,histtype='step')\n",
    "plt.xlabel('$R_v$')\n",
    "plt.show()"
   ]
  },
  {
   "cell_type": "code",
   "execution_count": null,
   "id": "1b2582d7-7e39-49d3-a4d8-cb2c8a993fb9",
   "metadata": {
    "tags": []
   },
   "outputs": [],
   "source": [
    "plt.hist(cats_fR.lenses.redshift, density=True, histtype='step',label='lenses')\n",
    "plt.hist(cats_fR.sources.redshift, density=True, histtype='step',label='sources')\n",
    "plt.xlabel('redshift')\n",
    "plt.legend()\n",
    "plt.show()"
   ]
  },
  {
   "cell_type": "code",
   "execution_count": null,
   "id": "d0551ef5-750c-4ba3-a6fb-314b4906e149",
   "metadata": {
    "tags": []
   },
   "outputs": [],
   "source": [
    "fig, ax = plt.subplots(3,2,\n",
    "                      figsize=(6,9))\n",
    "\n",
    "# axL,axS = ax[:,0], ax[:,1]\n",
    "\n",
    "for j,name in enumerate(['ra','dec','r_com']):\n",
    "\n",
    "    ax[j,0].hist(cats_fR.lenses[name], histtype='step', bins=50, density=True)\n",
    "    ax[j,0].hist(cats_fR.random_lenses[name], histtype='step', bins=50, density=True)\n",
    "    \n",
    "    ax[j,1].hist(cats_fR.sources[name], histtype='step', bins=50, density=True)\n",
    "    ax[j,1].hist(cats_fR.random_sources[name], histtype='step', bins=50, density=True)\n",
    "\n",
    "# ax[-1,-1].legend()\n",
    "plt.show()"
   ]
  },
  {
   "cell_type": "code",
   "execution_count": null,
   "id": "b71cac37-fd91-4016-8b10-e7d54f4454cd",
   "metadata": {
    "tags": []
   },
   "outputs": [],
   "source": [
    "plt.hist(cats_fR.sources.r_com, bins=50, histtype='step', density=True)\n",
    "plt.hist(cats_fR.random_sources.r_com, bins=50, histtype='step', density=True)\n",
    "plt.show()"
   ]
  },
  {
   "cell_type": "markdown",
   "id": "25fd0a88-9ea4-4abf-b4f2-8ee11cacc07b",
   "metadata": {},
   "source": [
    "## VGCF calculation"
   ]
  },
  {
   "cell_type": "markdown",
   "id": "7433102d-f2d3-4dcd-b529-673cfab3cb0f",
   "metadata": {},
   "source": [
    "### LCDM"
   ]
  },
  {
   "cell_type": "code",
   "execution_count": 10,
   "id": "21646895",
   "metadata": {},
   "outputs": [
    {
     "name": "stdout",
     "output_type": "stream",
     "text": [
      "Number of patches 125\n",
      "r = (0.16, 79.38)\n"
     ]
    }
   ],
   "source": [
    "nbins = 25\n",
    "rmin = 0.01*cats_LCDM.lenses.rv.mean()\n",
    "rmax = 5.0*cats_LCDM.lenses.rv.mean()\n",
    "ncores = 64\n",
    "\n",
    "# parameters related with bins\n",
    "config = {\n",
    "    'nbins' : nbins, # number of radial bins\n",
    "    'rmin' : rmin, # minimum value for rp (r in case of the quadrupole)\n",
    "    'rmax' : rmax, # maximum value for rp (r in case of the quadrupole)\n",
    "    # Related to JK patches\n",
    "    'NPatches' : int(nbins**(3./2.)),\n",
    "    # Other configuration parameters\n",
    "    'ncores' : ncores, # Number of cores to run in parallel\n",
    "    'slop' : 0., # Resolution for treecorr\n",
    "    'box' : False, # Indicates if the data corresponds to a box, otherwise it will assume a lightcone\n",
    "} \n",
    "\n",
    "print('Number of patches',config['NPatches'])\n",
    "print(f'r = ({np.round(config[\"rmin\"],2)}, {np.round(config[\"rmax\"],2)})')"
   ]
  },
  {
   "cell_type": "code",
   "execution_count": 11,
   "id": "53c0e0c2-d2e4-4bcb-8961-efa4c2ba3d6f",
   "metadata": {},
   "outputs": [],
   "source": [
    "vgcf_LCDM = VoidGalaxyCrossCorrelation(config)"
   ]
  },
  {
   "cell_type": "code",
   "execution_count": null,
   "id": "0fb65d1a-9eb4-42d1-ada1-8936e7ccfaf8",
   "metadata": {},
   "outputs": [
    {
     "name": "stdout",
     "output_type": "stream",
     "text": [
      "WARNING: Some patch numbers do not contain any objects!\n",
      "The following patch numbers have no objects: {76}\n",
      "This may be a problem depending on your use case.\n",
      "WARNING: Some patch numbers do not contain any objects!\n",
      "The following patch numbers have no objects: {76}\n",
      "This may be a problem depending on your use case.\n"
     ]
    }
   ],
   "source": [
    "vgcf_LCDM.run(cats_LCDM)"
   ]
  },
  {
   "cell_type": "code",
   "execution_count": null,
   "id": "f9ea1927-7a75-40bd-a191-51af30038f94",
   "metadata": {},
   "outputs": [],
   "source": [
    "ax = vgcf_LCDM.plot_corr()\n",
    "ax.axhline(0,ls=':',c='gray')"
   ]
  },
  {
   "cell_type": "markdown",
   "id": "5fa5ff0c-199e-42e6-9113-7e7bced4689f",
   "metadata": {},
   "source": [
    "### fR"
   ]
  },
  {
   "cell_type": "code",
   "execution_count": null,
   "id": "f51e44c6-829f-4713-b8c3-28e5b2b58d27",
   "metadata": {},
   "outputs": [],
   "source": [
    "nbins = 25\n",
    "rmin = 0.01*cats_fR.lenses.rv.mean()\n",
    "rmax = 5.0*cats_fR.lenses.rv.mean()\n",
    "ncores = 64\n",
    "\n",
    "# parameters related with bins\n",
    "config = {\n",
    "    'nbins' : nbins, # number of radial bins\n",
    "    'rmin' : rmin, # minimum value for rp (r in case of the quadrupole)\n",
    "    'rmax' : rmax, # maximum value for rp (r in case of the quadrupole)\n",
    "    # Related to JK patches\n",
    "    'NPatches' : int(nbins**(3./2.)),\n",
    "    # Other configuration parameters\n",
    "    'ncores' : ncores, # Number of cores to run in parallel\n",
    "    'slop' : 0., # Resolution for treecorr\n",
    "    'box' : False, # Indicates if the data corresponds to a box, otherwise it will assume a lightcone\n",
    "} \n",
    "\n",
    "print('Number of patches',config['NPatches'])\n",
    "print(f'r = ({np.round(config[\"rmin\"],2)}, {np.round(config[\"rmax\"],2)})')"
   ]
  },
  {
   "cell_type": "code",
   "execution_count": null,
   "id": "64f5ea8d-2e2a-48a7-9410-10a2227b4ae3",
   "metadata": {},
   "outputs": [],
   "source": [
    "vgcf_fR = VoidGalaxyCrossCorrelation(config)"
   ]
  },
  {
   "cell_type": "code",
   "execution_count": null,
   "id": "bb5325b2-3b25-4a54-8806-0ea6b9da9db9",
   "metadata": {},
   "outputs": [],
   "source": [
    "vgcf_fR.run(cats_fR)"
   ]
  },
  {
   "cell_type": "code",
   "execution_count": null,
   "id": "712cd7a4-c33e-4e88-98d7-5784c9618332",
   "metadata": {},
   "outputs": [],
   "source": [
    "ax = vgcf_fR.plot_corr()\n",
    "ax.axhline(0,ls=':',c='gray')"
   ]
  },
  {
   "cell_type": "markdown",
   "id": "e2767f35-1a79-44fc-a9cb-bcd88d186ff6",
   "metadata": {
    "tags": []
   },
   "source": [
    "## Plots"
   ]
  },
  {
   "cell_type": "code",
   "execution_count": null,
   "id": "5b9cd763-5340-4e93-ad08-5144f2c12144",
   "metadata": {},
   "outputs": [],
   "source": [
    "ax = vgcf_LCDM.plot_corr('LCDM')\n",
    "ax.errorbar(vgcf_fR.r, vgcf_fR.xi, vgcf_fR.varxi, c='tomato', capsize=2, fmt='.-', label='fR')\n",
    "ax.axhline(0, ls=':', c='gray')\n",
    "ax.axvline(cats_LCDM.lenses.rv.mean(), ls=':', c='purple')\n",
    "ax.axvline(cats_fR.lenses.rv.mean(), ls=':', c='tomato')\n",
    "plt.legend()"
   ]
  },
  {
   "cell_type": "code",
   "execution_count": null,
   "id": "19ab394a-5cd9-4239-b62d-e29668b6dc76",
   "metadata": {
    "jupyter": {
     "source_hidden": true
    },
    "tags": []
   },
   "outputs": [],
   "source": [
    "def err_frac2(a, b, e_a, e_b):\n",
    "    \"\"\"\n",
    "    error de D = a/b -1 \n",
    "    \"\"\"\n",
    "    # e_a2 = np.diag(cova)\n",
    "    # e_b2 = np.diag(covb)\n",
    "    # np.cov(cova,covb)\n",
    "    \n",
    "    return e_a/np.abs(b) + e_b/np.abs(a)"
   ]
  },
  {
   "cell_type": "code",
   "execution_count": null,
   "id": "07dcc657-4e68-48f1-a23f-35099d8b7592",
   "metadata": {
    "jupyter": {
     "source_hidden": true
    },
    "tags": []
   },
   "outputs": [],
   "source": [
    "fig,(ax1, ax2) = plt.subplots(2,1,\n",
    "                            figsize=(8,10),\n",
    "                            sharex=True,\n",
    "                            gridspec_kw={'height_ratios': [2,1]})\n",
    "\n",
    "ax1.errorbar(LCDM_R15_17_z01_02_R['r'],LCDM_R15_17_z01_02_R['xi'],LCDM_R15_17_z01_02_R['varxi'],\n",
    "            label='LCDM halos', fmt='.-', capsize=2, c='b')\n",
    "ax1.errorbar(LCDM_R15_17_z01_02_R_gx['r'],LCDM_R15_17_z01_02_R_gx['xi'],LCDM_R15_17_z01_02_R_gx['varxi'],\n",
    "            label='LCDM gx', fmt='.-', capsize=2, c='cyan')\n",
    "\n",
    "ax1.errorbar(fR_R15_17_z01_02_R['r'],fR_R15_17_z01_02_R['xi'],fR_R15_17_z01_02_R['varxi'],\n",
    "            label='fR halos', fmt='.-', capsize=2, c='r')\n",
    "ax1.errorbar(fR_R15_17_z01_02_R_gx['r'],fR_R15_17_z01_02_R_gx['xi'],fR_R15_17_z01_02_R_gx['varxi'],\n",
    "            label='fR gx', fmt='.-', capsize=2, c='orange')\n",
    "ax2.set_xlabel('meanr [Mpc/h]')\n",
    "ax1.set_ylabel('$\\\\xi$')\n",
    "ax1.legend()\n",
    "\n",
    "ax2.errorbar(LCDM_R15_17_z01_02_R['r'], LCDM_R15_17_z01_02_R['xi']/LCDM_R15_17_z01_02_R_gx['xi'] - 1, \n",
    "            err_frac2(LCDM_R15_17_z01_02_R['xi'], LCDM_R15_17_z01_02_R_gx['xi'], LCDM_R15_17_z01_02_R['varxi'],\n",
    "                     LCDM_R15_17_z01_02_R_gx['varxi']),\n",
    "            c='b',fmt='.-',capsize=2, label='LCDM dif')\n",
    "ax2.errorbar(fR_R15_17_z01_02_R['r'], fR_R15_17_z01_02_R['xi']/fR_R15_17_z01_02_R_gx['xi'] - 1, \n",
    "            err_frac2(fR_R15_17_z01_02_R['xi'], fR_R15_17_z01_02_R_gx['xi'], fR_R15_17_z01_02_R['varxi'],\n",
    "                     fR_R15_17_z01_02_R_gx['varxi']),\n",
    "            c='r',fmt='.-',capsize=2, label='fR dif')\n",
    "\n",
    "ax2.errorbar(LCDM_R15_17_z01_02_R_gx['r'], LCDM_R15_17_z01_02_R_gx['xi']/fR_R15_17_z01_02_R_gx['xi'] - 1, \n",
    "            err_frac2(LCDM_R15_17_z01_02_R_gx['xi'], fR_R15_17_z01_02_R_gx['xi'], LCDM_R15_17_z01_02_R_gx['varxi'],\n",
    "                     fR_R15_17_z01_02_R_gx['varxi']),\n",
    "            c='k',fmt='.-',capsize=2, label='LCDM/fR gx')\n",
    "\n",
    "\n",
    "ax2.axhline(0,ls=':',c='k',alpha=0.5)\n",
    "ax2.axhline(0.1,ls='--',c='k',alpha=0.5)\n",
    "ax2.axhline(-0.1,ls='--',c='k',alpha=0.5)\n",
    "\n",
    "ax2.set_ylabel('DIFF')\n",
    "ax2.legend()\n",
    "\n",
    "plt.subplots_adjust(wspace=0.01, hspace=0.05)"
   ]
  }
 ],
 "metadata": {
  "kernelspec": {
   "display_name": "Python 3 (ipykernel)",
   "language": "python",
   "name": "python3"
  },
  "language_info": {
   "codemirror_mode": {
    "name": "ipython",
    "version": 3
   },
   "file_extension": ".py",
   "mimetype": "text/x-python",
   "name": "python",
   "nbconvert_exporter": "python",
   "pygments_lexer": "ipython3",
   "version": "3.10.15"
  }
 },
 "nbformat": 4,
 "nbformat_minor": 5
}
